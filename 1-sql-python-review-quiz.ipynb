{
 "cells": [
  {
   "cell_type": "markdown",
   "id": "a5f0844f-4c56-45fb-b56d-e7ef9307fac3",
   "metadata": {},
   "source": [
    "# SQL Python Review Quiz"
   ]
  },
  {
   "cell_type": "markdown",
   "id": "839ab276-dd90-4fe3-ad6c-b8e97729bebc",
   "metadata": {},
   "source": [
    "#### Setting Up"
   ]
  },
  {
   "cell_type": "code",
   "execution_count": 4,
   "id": "faadbc3f-c041-44b6-b105-d82598ac8556",
   "metadata": {},
   "outputs": [
    {
     "data": {
      "text/plain": [
       "[('actors',),\n",
       " ('directors',),\n",
       " ('movies',),\n",
       " ('writers',),\n",
       " ('movie_actors',),\n",
       " ('movie_directors',),\n",
       " ('movie_writers',)]"
      ]
     },
     "execution_count": 4,
     "metadata": {},
     "output_type": "execute_result"
    }
   ],
   "source": [
    "import sqlite3\n",
    "import pandas as pd\n",
    "\n",
    "conn = sqlite3.connect('movie_films_actors.db')\n",
    "cursor = conn.cursor()\n",
    "\n",
    "\n",
    "root_url = \"https://raw.githubusercontent.com/jigsawlabs-student/curriculum-images/main/has-many-movies-lab/\"\n",
    "names = ['actors', 'directors', 'movies', 'writers', 'movie_actors', 'movie_directors', 'movie_writers']\n",
    "loaded_dfs = [pd.read_csv(f'{root_url}{name}.csv') for name in names]\n",
    "\n",
    "for index, name in enumerate(names):\n",
    "    loaded_dfs[index].to_sql(f'{name}', conn, index = False, if_exists='replace')\n",
    "\n",
    "cursor.execute('SELECT name from sqlite_master where type= \"table\"')\n",
    "tables = cursor.fetchall()\n",
    "tables"
   ]
  },
  {
   "cell_type": "code",
   "execution_count": 5,
   "id": "dd069946",
   "metadata": {},
   "outputs": [
    {
     "name": "stdout",
     "output_type": "stream",
     "text": [
      "actors table\n",
      "       0     1\n",
      "name  id  name\n",
      "directors table\n",
      "       0     1\n",
      "name  id  name\n",
      "movies table\n",
      "       0      1       2        3            4             5     6\n",
      "name  id  title  studio  runtime  description  release_date  year\n",
      "writers table\n",
      "       0     1\n",
      "name  id  name\n",
      "movie_actors table\n",
      "       0         1         2\n",
      "name  id  movie_id  actor_id\n",
      "movie_directors table\n",
      "       0         1            2\n",
      "name  id  movie_id  director_id\n",
      "movie_writers table\n",
      "       0         1          2\n",
      "name  id  movie_id  writer_id\n"
     ]
    }
   ],
   "source": [
    "for table_tuple in tables:\n",
    "    table_name = table_tuple[0]\n",
    "    print(table_name, 'table')\n",
    "    print(pd.read_sql(f'PRAGMA table_info({table_name})', conn)[['name']].T)\n"
   ]
  },
  {
   "cell_type": "markdown",
   "id": "35bd3843-4476-40df-a7c5-04484f7b9b3f",
   "metadata": {},
   "source": [
    "> If one of the queries goes wrong you may have to re-run the code that creates the connection object above."
   ]
  },
  {
   "cell_type": "markdown",
   "id": "a325bcbf-97e3-439d-8979-e237eb32ef3c",
   "metadata": {},
   "source": [
    "* Relational queries"
   ]
  },
  {
   "cell_type": "markdown",
   "id": "87ef3444-0ab4-4b5e-bfc8-0baecdd47b20",
   "metadata": {},
   "source": [
    "Find all attributes of the director who made the movie `The Martian`. "
   ]
  },
  {
   "cell_type": "code",
   "execution_count": 11,
   "id": "f5fdf428-8287-4e52-aaab-25b383f59dcf",
   "metadata": {},
   "outputs": [
    {
     "data": {
      "text/plain": [
       "[(499, 'Ridley Scott')]"
      ]
     },
     "execution_count": 11,
     "metadata": {},
     "output_type": "execute_result"
    }
   ],
   "source": [
    "statement = \"\"\"\n",
    "\n",
    "\"\"\"\n",
    "cursor.execute(statement)\n",
    "cursor.fetchall()\n",
    "\n",
    "# [(499, 'Ridley Scott')]"
   ]
  },
  {
   "cell_type": "markdown",
   "id": "04b5c7ed-1fbe-4dd8-978a-87f778f85950",
   "metadata": {},
   "source": [
    "Find the average runtime of Steven Soderbergh movies."
   ]
  },
  {
   "cell_type": "code",
   "execution_count": 19,
   "id": "754a2b07-3278-4408-8869-822ea9224ac8",
   "metadata": {},
   "outputs": [
    {
     "data": {
      "text/plain": [
       "[(114.57692307692308,)]"
      ]
     },
     "execution_count": 19,
     "metadata": {},
     "output_type": "execute_result"
    }
   ],
   "source": [
    "statement = \"\"\"\n",
    "\n",
    "\"\"\"\n",
    "\n",
    "cursor.execute(statement)\n",
    "cursor.fetchall()\n",
    "\n",
    "# [(114.57692307692308,)]"
   ]
  },
  {
   "cell_type": "markdown",
   "id": "b3fee8a1-0feb-4c4c-840d-f835c6276b1f",
   "metadata": {},
   "source": [
    "Find the names and average runtimes of the directors who have made at least three movies and have the top three average runtimes. Do not include any results that have null values for the average runtime."
   ]
  },
  {
   "cell_type": "markdown",
   "id": "e4d2d2cb-0adc-4f20-84ec-d2f849eba2f4",
   "metadata": {},
   "source": [
    "> To filter results based on an aggregate, you will need to recalculate the aggregate in the HAVING clause."
   ]
  },
  {
   "cell_type": "code",
   "execution_count": 43,
   "id": "25fce22a-4561-410c-ab67-c655e22a9293",
   "metadata": {},
   "outputs": [
    {
     "data": {
      "text/plain": [
       "[('Luchino Visconti', 176.2),\n",
       " ('Bernardo Bertolucci', 168.85714285714286),\n",
       " ('Michael Cimino', 146.33333333333334)]"
      ]
     },
     "execution_count": 43,
     "metadata": {},
     "output_type": "execute_result"
    }
   ],
   "source": [
    "statement = \"\"\"\n",
    "\n",
    "\n",
    "\"\"\"\n",
    "\n",
    "cursor.execute(statement)\n",
    "cursor.fetchall()\n",
    "\n",
    "# [('Luchino Visconti', 176.2),\n",
    "#  ('Bernardo Bertolucci', 168.85714285714286),\n",
    "#  ('Michael Cimino', 146.33333333333334)]"
   ]
  },
  {
   "cell_type": "markdown",
   "id": "527c006d-6bcf-437e-8899-5c788be255c3",
   "metadata": {},
   "source": [
    "### Practice with Objects"
   ]
  },
  {
   "cell_type": "markdown",
   "id": "89f6b523-94b1-4285-a793-1cf36e658ec0",
   "metadata": {},
   "source": [
    "For this next section, we'll ask you to create some objects.  For this, it may be helpful to create the corresponding code in a text editor, and then copy the related code to the colab.\n",
    "\n",
    "> **Note**: We provided a console.py file in the codebase that may help you try out your code."
   ]
  },
  {
   "cell_type": "markdown",
   "id": "939d569e-52d8-4a41-b61b-e9fc991a1e07",
   "metadata": {},
   "source": [
    "* Declare a Director class in the `director.py` file.  It should take arguments of `id` and `full_name`, so that we can code the following."
   ]
  },
  {
   "cell_type": "markdown",
   "id": "d79da233-8103-4ceb-9874-ea254eaa4a6e",
   "metadata": {},
   "source": [
    "```python\n",
    "director = Director(id = 72, full_name = 'Quentin Tarantino')\n",
    "```"
   ]
  },
  {
   "cell_type": "markdown",
   "id": "25c7de7e-b807-47e2-86de-a3393f25e811",
   "metadata": {},
   "source": [
    "* Write a method called `first_name` that will return the first word in a director's `full_name`."
   ]
  },
  {
   "cell_type": "markdown",
   "id": "f229fb2c-aa53-4389-ac58-7bd7b72a3165",
   "metadata": {},
   "source": [
    "* Write a method called `last_name` that will return the last word in a director's `full_name`."
   ]
  },
  {
   "cell_type": "markdown",
   "id": "327285da-7c6e-46ac-ba96-2a44e016c915",
   "metadata": {},
   "source": [
    "* Write a method called `movies` that returns the list of movie records of an associated director.\n",
    "\n",
    "> It should only return the `id`, `title`, and `year` of each movie.\n",
    "\n",
    "> This method does not have to return a list of movie objects, movie records are fine. "
   ]
  },
  {
   "cell_type": "markdown",
   "id": "140ea23d-f09f-418c-ac1f-4ed9ee7e6a01",
   "metadata": {},
   "source": [
    "For example, if we initialize a director with the following, we should get the following result."
   ]
  },
  {
   "cell_type": "markdown",
   "id": "89ade41a-3890-4f53-82c3-c9e7bf93a0bb",
   "metadata": {},
   "source": [
    "```python\n",
    "director = Director(id = 5, full_name = 'Francis Ford Coppola')\n",
    "director.movies(cursor)\n",
    "```"
   ]
  },
  {
   "cell_type": "markdown",
   "id": "5042ed17-6019-4626-9136-16c9a7172694",
   "metadata": {},
   "source": [
    "```python\n",
    "[(5, 'Apocalypse Now', 1979), (604, 'The Godfather, Part III', 1990), (5949, \"Finian's Rainbow\", 1968), (8999, 'One From the Heart', 1982), (10395, 'New York Stories', 1989), (12786, 'Harold And Lillian: A Hollywood Love Story', 2017), (14263, 'Rumble Fish', 1983), (14432, 'Jack', 1996), (14782, 'The Godfather, Part II', 1974), (15697, 'The Outsiders', 1983), (16156, 'Tetro', 2009), (16311, 'Gardens of Stone', 1987), (16609, 'Dementia 13', 1963), (17329, 'The Godfather', 1972), (17338, 'The Rain People', 1969), (18121, 'Tucker: The Man and His Dream', 1988), (19666, 'The Rainmaker', 1997), (19752, 'Youth Without Youth', 2007), (20529, 'Apocalypse Now Redux', 2001), (21834, \"Bram Stoker's Dracula\", 1992), (21980, 'Twixt', 2012), (22473, 'Supernova', 2000), (24138, 'The Conversation', 1974), (28161, 'Peggy Sue Got Married', 1986)]\n",
    "```"
   ]
  },
  {
   "cell_type": "markdown",
   "id": "d6f1f965-fbf0-4fab-a7ba-9b4e71a2ac6e",
   "metadata": {},
   "source": [
    "* When complete, copy and paste the code in the `director.py` file below."
   ]
  },
  {
   "cell_type": "code",
   "execution_count": null,
   "id": "7976a530-432e-461a-99dd-163b74bed893",
   "metadata": {},
   "outputs": [],
   "source": []
  },
  {
   "cell_type": "markdown",
   "id": "9b87a648-75e2-436a-9e7b-c50ad32ee9fe",
   "metadata": {},
   "source": [
    "### Bonus"
   ]
  },
  {
   "cell_type": "markdown",
   "id": "4780ba83-75e2-4c67-a37f-bb04fe5b3dde",
   "metadata": {},
   "source": [
    "Looking for an extra challenge?  Write tests for the director.py file in the tests folder.\n",
    "\n",
    "* Write tests for the `first_name` and `last_name` methods."
   ]
  },
  {
   "cell_type": "markdown",
   "id": "5bd36e99-885d-49ba-826a-66a6b83c05dc",
   "metadata": {},
   "source": [
    "Copy the code in your `test_director.py` file below."
   ]
  },
  {
   "cell_type": "code",
   "execution_count": null,
   "id": "d1fec495-b35e-4f3b-82f0-18ddb821afe7",
   "metadata": {},
   "outputs": [],
   "source": []
  }
 ],
 "metadata": {
  "kernelspec": {
   "display_name": "Python 3 (ipykernel)",
   "language": "python",
   "name": "python3"
  },
  "language_info": {
   "codemirror_mode": {
    "name": "ipython",
    "version": 3
   },
   "file_extension": ".py",
   "mimetype": "text/x-python",
   "name": "python",
   "nbconvert_exporter": "python",
   "pygments_lexer": "ipython3",
   "version": "3.10.6"
  },
  "vscode": {
   "interpreter": {
    "hash": "31f2aee4e71d21fbe5cf8b01ff0e069b9275f58929596ceb00d14d90e3e16cd6"
   }
  }
 },
 "nbformat": 4,
 "nbformat_minor": 5
}
